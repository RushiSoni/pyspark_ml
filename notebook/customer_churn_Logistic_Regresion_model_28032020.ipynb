{
 "cells": [
  {
   "cell_type": "code",
   "execution_count": 1,
   "metadata": {},
   "outputs": [],
   "source": [
    "import findspark\n",
    "findspark.init('/home/ubuntu/spark-2.4.5-bin-hadoop2.7')\n",
    "from pyspark.sql import SparkSession\n",
    "\n",
    "from pyspark.ml.linalg import Vector\n",
    "from pyspark.ml.feature import VectorAssembler, StringIndexer, OneHotEncoder\n",
    "from pyspark.ml.classification import LogisticRegression\n",
    "from pyspark.ml.evaluation import BinaryClassificationEvaluator\n",
    "from pyspark.sql.functions import corr\n",
    "import os\n",
    "os.chdir('/home/ubuntu/data')"
   ]
  },
  {
   "cell_type": "code",
   "execution_count": 2,
   "metadata": {},
   "outputs": [],
   "source": [
    "spark = SparkSession.builder.appName('Cust_churn').getOrCreate()"
   ]
  },
  {
   "cell_type": "code",
   "execution_count": 3,
   "metadata": {},
   "outputs": [
    {
     "name": "stdout",
     "output_type": "stream",
     "text": [
      "root\n",
      " |-- Names: string (nullable = true)\n",
      " |-- Age: double (nullable = true)\n",
      " |-- Total_Purchase: double (nullable = true)\n",
      " |-- Account_Manager: integer (nullable = true)\n",
      " |-- Years: double (nullable = true)\n",
      " |-- Num_Sites: double (nullable = true)\n",
      " |-- Onboard_date: timestamp (nullable = true)\n",
      " |-- Location: string (nullable = true)\n",
      " |-- Company: string (nullable = true)\n",
      " |-- Churn: integer (nullable = true)\n",
      "\n"
     ]
    }
   ],
   "source": [
    "df = spark.read.csv('customer_churn.csv', inferSchema=True, header=True) \n",
    "df.printSchema()"
   ]
  },
  {
   "cell_type": "code",
   "execution_count": 4,
   "metadata": {},
   "outputs": [
    {
     "name": "stdout",
     "output_type": "stream",
     "text": [
      "+-------+-------------+-----------------+-----------------+------------------+-----------------+------------------+--------------------+--------------------+-------------------+\n",
      "|summary|        Names|              Age|   Total_Purchase|   Account_Manager|            Years|         Num_Sites|            Location|             Company|              Churn|\n",
      "+-------+-------------+-----------------+-----------------+------------------+-----------------+------------------+--------------------+--------------------+-------------------+\n",
      "|  count|          900|              900|              900|               900|              900|               900|                 900|                 900|                900|\n",
      "|   mean|         null|41.81666666666667|10062.82403333334|0.4811111111111111| 5.27315555555555| 8.587777777777777|                null|                null|0.16666666666666666|\n",
      "| stddev|         null|6.127560416916251|2408.644531858096|0.4999208935073339|1.274449013194616|1.7648355920350969|                null|                null| 0.3728852122772358|\n",
      "|    min|   Aaron King|             22.0|            100.0|                 0|              1.0|               3.0|00103 Jeffrey Cre...|     Abbott-Thompson|                  0|\n",
      "|    max|Zachary Walsh|             65.0|         18026.01|                 1|             9.15|              14.0|Unit 9800 Box 287...|Zuniga, Clark and...|                  1|\n",
      "+-------+-------------+-----------------+-----------------+------------------+-----------------+------------------+--------------------+--------------------+-------------------+\n",
      "\n"
     ]
    }
   ],
   "source": [
    "df.describe().show()"
   ]
  },
  {
   "cell_type": "code",
   "execution_count": 5,
   "metadata": {},
   "outputs": [
    {
     "data": {
      "text/plain": [
       "['Names',\n",
       " 'Age',\n",
       " 'Total_Purchase',\n",
       " 'Account_Manager',\n",
       " 'Years',\n",
       " 'Num_Sites',\n",
       " 'Onboard_date',\n",
       " 'Location',\n",
       " 'Company',\n",
       " 'Churn']"
      ]
     },
     "execution_count": 5,
     "metadata": {},
     "output_type": "execute_result"
    }
   ],
   "source": [
    "df.columns"
   ]
  },
  {
   "cell_type": "code",
   "execution_count": 6,
   "metadata": {},
   "outputs": [
    {
     "name": "stdout",
     "output_type": "stream",
     "text": [
      "+----+--------------+---------------+-----+---------+\n",
      "| Age|Total_Purchase|Account_Manager|Years|Num_Sites|\n",
      "+----+--------------+---------------+-----+---------+\n",
      "|42.0|       11066.8|              0| 7.22|      8.0|\n",
      "|41.0|      11916.22|              0|  6.5|     11.0|\n",
      "|38.0|      12884.75|              0| 6.67|     12.0|\n",
      "|42.0|       8010.76|              0| 6.71|     10.0|\n",
      "|37.0|       9191.58|              0| 5.56|      9.0|\n",
      "|48.0|      10356.02|              0| 5.12|      8.0|\n",
      "|44.0|      11331.58|              1| 5.23|     11.0|\n",
      "|32.0|       9885.12|              1| 6.92|      9.0|\n",
      "|43.0|       14062.6|              1| 5.46|     11.0|\n",
      "|40.0|       8066.94|              1| 7.11|     11.0|\n",
      "|30.0|      11575.37|              1| 5.22|      8.0|\n",
      "|45.0|       8771.02|              1| 6.64|     11.0|\n",
      "|45.0|       8988.67|              1| 4.84|     11.0|\n",
      "|40.0|       8283.32|              1|  5.1|     13.0|\n",
      "|41.0|       6569.87|              1|  4.3|     11.0|\n",
      "|38.0|      10494.82|              1| 6.81|     12.0|\n",
      "|45.0|       8213.41|              1| 7.35|     11.0|\n",
      "|43.0|      11226.88|              0| 8.08|     12.0|\n",
      "|53.0|       5515.09|              0| 6.85|      8.0|\n",
      "|46.0|        8046.4|              1| 5.69|      8.0|\n",
      "+----+--------------+---------------+-----+---------+\n",
      "only showing top 20 rows\n",
      "\n"
     ]
    }
   ],
   "source": [
    "df.select(['Age', 'Total_Purchase', 'Account_Manager', 'Years', 'Num_Sites']).show()"
   ]
  },
  {
   "cell_type": "code",
   "execution_count": 7,
   "metadata": {},
   "outputs": [
    {
     "name": "stdout",
     "output_type": "stream",
     "text": [
      "+--------------------+-----+\n",
      "|            features|Churn|\n",
      "+--------------------+-----+\n",
      "|[42.0,11066.8,0.0...|    1|\n",
      "|[41.0,11916.22,0....|    1|\n",
      "|[38.0,12884.75,0....|    1|\n",
      "|[42.0,8010.76,0.0...|    1|\n",
      "|[37.0,9191.58,0.0...|    1|\n",
      "|[48.0,10356.02,0....|    1|\n",
      "|[44.0,11331.58,1....|    1|\n",
      "|[32.0,9885.12,1.0...|    1|\n",
      "|[43.0,14062.6,1.0...|    1|\n",
      "|[40.0,8066.94,1.0...|    1|\n",
      "|[30.0,11575.37,1....|    1|\n",
      "|[45.0,8771.02,1.0...|    1|\n",
      "|[45.0,8988.67,1.0...|    1|\n",
      "|[40.0,8283.32,1.0...|    1|\n",
      "|[41.0,6569.87,1.0...|    1|\n",
      "|[38.0,10494.82,1....|    1|\n",
      "|[45.0,8213.41,1.0...|    1|\n",
      "|[43.0,11226.88,0....|    1|\n",
      "|[53.0,5515.09,0.0...|    1|\n",
      "|[46.0,8046.4,1.0,...|    1|\n",
      "+--------------------+-----+\n",
      "only showing top 20 rows\n",
      "\n"
     ]
    }
   ],
   "source": [
    "assemblered= VectorAssembler(inputCols=['Age', 'Total_Purchase', 'Account_Manager', 'Years', 'Num_Sites'], outputCol='features')\n",
    "output = assemblered.transform(df)\n",
    "final_data = output.select('features', 'Churn')\n",
    "final_data.show()"
   ]
  },
  {
   "cell_type": "code",
   "execution_count": 8,
   "metadata": {},
   "outputs": [
    {
     "name": "stdout",
     "output_type": "stream",
     "text": [
      "+-------+-------------------+\n",
      "|summary|              Churn|\n",
      "+-------+-------------------+\n",
      "|  count|                624|\n",
      "|   mean|0.18269230769230768|\n",
      "| stddev| 0.3867240627102176|\n",
      "|    min|                  0|\n",
      "|    max|                  1|\n",
      "+-------+-------------------+\n",
      "\n"
     ]
    }
   ],
   "source": [
    "train_churn, test_churn = final_data.randomSplit([0.7, 0.3], seed=42)\n",
    "train_churn.describe().show()"
   ]
  },
  {
   "cell_type": "code",
   "execution_count": 9,
   "metadata": {},
   "outputs": [
    {
     "name": "stdout",
     "output_type": "stream",
     "text": [
      "+-------+-------------------+\n",
      "|summary|              Churn|\n",
      "+-------+-------------------+\n",
      "|  count|                276|\n",
      "|   mean|0.13043478260869565|\n",
      "| stddev|0.33739293426931993|\n",
      "|    min|                  0|\n",
      "|    max|                  1|\n",
      "+-------+-------------------+\n",
      "\n"
     ]
    }
   ],
   "source": [
    "test_churn.describe().show()"
   ]
  },
  {
   "cell_type": "code",
   "execution_count": 10,
   "metadata": {},
   "outputs": [],
   "source": [
    "lr_model = LogisticRegression(labelCol='Churn', predictionCol='prediction')\n",
    "trained_model = lr_model.fit(train_churn)\n",
    "summary_of_model = trained_model.summary"
   ]
  },
  {
   "cell_type": "code",
   "execution_count": 11,
   "metadata": {},
   "outputs": [
    {
     "name": "stdout",
     "output_type": "stream",
     "text": [
      "+-------+-------------------+-------------------+\n",
      "|summary|              Churn|         prediction|\n",
      "+-------+-------------------+-------------------+\n",
      "|  count|                624|                624|\n",
      "|   mean|0.18269230769230768|0.14102564102564102|\n",
      "| stddev| 0.3867240627102176|0.34832721924783666|\n",
      "|    min|                0.0|                0.0|\n",
      "|    25%|                0.0|                0.0|\n",
      "|    50%|                0.0|                0.0|\n",
      "|    75%|                0.0|                0.0|\n",
      "|    max|                1.0|                1.0|\n",
      "+-------+-------------------+-------------------+\n",
      "\n"
     ]
    }
   ],
   "source": [
    "summary_of_model.predictions.summary().show()"
   ]
  },
  {
   "cell_type": "code",
   "execution_count": 12,
   "metadata": {},
   "outputs": [
    {
     "name": "stdout",
     "output_type": "stream",
     "text": [
      "+--------------------+-----+--------------------+--------------------+----------+\n",
      "|            features|Churn|       rawPrediction|         probability|prediction|\n",
      "+--------------------+-----+--------------------+--------------------+----------+\n",
      "|[25.0,9672.03,0.0...|    0|[4.83695271757974...|[0.99213122290547...|       0.0|\n",
      "|[26.0,8787.39,1.0...|    1|[0.81425607830479...|[0.69301570648089...|       0.0|\n",
      "|[26.0,8939.61,0.0...|    0|[6.70259561188525...|[0.99877378437479...|       0.0|\n",
      "|[29.0,9617.59,0.0...|    0|[4.55236239781693...|[0.98956771010833...|       0.0|\n",
      "|[29.0,12711.15,0....|    0|[5.36391356043500...|[0.99533927925365...|       0.0|\n",
      "|[30.0,10960.52,1....|    0|[2.51039549886930...|[0.92486737744762...|       0.0|\n",
      "|[30.0,12788.37,0....|    0|[2.38073539714739...|[0.91534643564507...|       0.0|\n",
      "|[30.0,13473.35,0....|    0|[2.61084841454558...|[0.93155651013043...|       0.0|\n",
      "|[31.0,8829.83,1.0...|    0|[4.82019082883642...|[0.99199927988085...|       0.0|\n",
      "|[31.0,9574.89,0.0...|    0|[3.2451051245929,...|[0.96249682331055...|       0.0|\n",
      "|[32.0,10716.75,0....|    0|[4.46198601286571...|[0.98859221617137...|       0.0|\n",
      "|[32.0,11540.86,0....|    0|[6.98729826299122...|[0.99907731381431...|       0.0|\n",
      "|[32.0,12142.99,0....|    0|[5.66173662505401...|[0.99653556968255...|       0.0|\n",
      "|[32.0,12403.6,0.0...|    0|[5.64914865917417...|[0.99649183787353...|       0.0|\n",
      "|[33.0,4711.89,0.0...|    0|[6.33300549548055...|[0.99822646509931...|       0.0|\n",
      "|[33.0,7750.54,1.0...|    0|[4.74809420463953...|[0.99140629268222...|       0.0|\n",
      "|[33.0,10306.21,1....|    0|[2.10406270167831...|[0.89129742524060...|       0.0|\n",
      "|[33.0,11370.28,1....|    0|[7.04188328795657...|[0.99912628592744...|       0.0|\n",
      "|[34.0,6131.92,0.0...|    0|[4.09106122678923...|[0.98355353043507...|       0.0|\n",
      "|[34.0,9265.59,0.0...|    0|[4.04753444388036...|[0.98283441995763...|       0.0|\n",
      "+--------------------+-----+--------------------+--------------------+----------+\n",
      "only showing top 20 rows\n",
      "\n"
     ]
    }
   ],
   "source": [
    "pred_and_labels = trained_model.evaluate(test_churn)\n",
    "pred_and_labels.predictions.show()"
   ]
  },
  {
   "cell_type": "code",
   "execution_count": 13,
   "metadata": {},
   "outputs": [
    {
     "name": "stdout",
     "output_type": "stream",
     "text": [
      "+-------+-------------------+-------------------+\n",
      "|summary|              Churn|         prediction|\n",
      "+-------+-------------------+-------------------+\n",
      "|  count|                276|                276|\n",
      "|   mean|0.13043478260869565|0.10869565217391304|\n",
      "| stddev|0.33739293426931993| 0.3118223878765405|\n",
      "|    min|                  0|                0.0|\n",
      "|    25%|                  0|                0.0|\n",
      "|    50%|                  0|                0.0|\n",
      "|    75%|                  0|                0.0|\n",
      "|    max|                  1|                1.0|\n",
      "+-------+-------------------+-------------------+\n",
      "\n"
     ]
    }
   ],
   "source": [
    "pred_and_labels.predictions.summary().show()"
   ]
  },
  {
   "cell_type": "code",
   "execution_count": 14,
   "metadata": {},
   "outputs": [
    {
     "data": {
      "text/plain": [
       "0.7569444444444445"
      ]
     },
     "execution_count": 14,
     "metadata": {},
     "output_type": "execute_result"
    }
   ],
   "source": [
    "chur_eval = BinaryClassificationEvaluator(rawPredictionCol='prediction', labelCol='Churn')\n",
    "auc = chur_eval.evaluate(pred_and_labels.predictions)\n",
    "auc"
   ]
  },
  {
   "cell_type": "markdown",
   "metadata": {},
   "source": [
    "## Prediction on new data"
   ]
  },
  {
   "cell_type": "code",
   "execution_count": 15,
   "metadata": {},
   "outputs": [],
   "source": [
    "lr_model = LogisticRegression(labelCol='Churn', predictionCol='prediction')\n",
    "trained_model = lr_model.fit(final_data)\n",
    "summary_of_model = trained_model.summary"
   ]
  },
  {
   "cell_type": "code",
   "execution_count": 16,
   "metadata": {},
   "outputs": [
    {
     "name": "stdout",
     "output_type": "stream",
     "text": [
      "root\n",
      " |-- Names: string (nullable = true)\n",
      " |-- Age: double (nullable = true)\n",
      " |-- Total_Purchase: double (nullable = true)\n",
      " |-- Account_Manager: integer (nullable = true)\n",
      " |-- Years: double (nullable = true)\n",
      " |-- Num_Sites: double (nullable = true)\n",
      " |-- Onboard_date: timestamp (nullable = true)\n",
      " |-- Location: string (nullable = true)\n",
      " |-- Company: string (nullable = true)\n",
      "\n"
     ]
    }
   ],
   "source": [
    "new_cust = spark.read.csv('new_customers.csv', inferSchema=True, header=True) \n",
    "new_cust.printSchema()"
   ]
  },
  {
   "cell_type": "code",
   "execution_count": 17,
   "metadata": {},
   "outputs": [
    {
     "name": "stdout",
     "output_type": "stream",
     "text": [
      "root\n",
      " |-- Names: string (nullable = true)\n",
      " |-- Age: double (nullable = true)\n",
      " |-- Total_Purchase: double (nullable = true)\n",
      " |-- Account_Manager: integer (nullable = true)\n",
      " |-- Years: double (nullable = true)\n",
      " |-- Num_Sites: double (nullable = true)\n",
      " |-- Onboard_date: timestamp (nullable = true)\n",
      " |-- Location: string (nullable = true)\n",
      " |-- Company: string (nullable = true)\n",
      " |-- features: vector (nullable = true)\n",
      "\n"
     ]
    }
   ],
   "source": [
    "test_new_cust = assemblered.transform(new_cust)\n",
    "test_new_cust.printSchema()"
   ]
  },
  {
   "cell_type": "code",
   "execution_count": 18,
   "metadata": {},
   "outputs": [
    {
     "name": "stdout",
     "output_type": "stream",
     "text": [
      "+----------------+----------+\n",
      "|         Company|prediction|\n",
      "+----------------+----------+\n",
      "|        King Ltd|       0.0|\n",
      "|   Cannon-Benson|       1.0|\n",
      "|Barron-Robertson|       1.0|\n",
      "|   Sexton-Golden|       1.0|\n",
      "|        Wood LLC|       0.0|\n",
      "|   Parks-Robbins|       1.0|\n",
      "+----------------+----------+\n",
      "\n"
     ]
    }
   ],
   "source": [
    "final_result = trained_model.transform(test_new_cust)\n",
    "final_result.select('Company','prediction').show()"
   ]
  }
 ],
 "metadata": {
  "kernelspec": {
   "display_name": "Python 3",
   "language": "python",
   "name": "python3"
  },
  "language_info": {
   "codemirror_mode": {
    "name": "ipython",
    "version": 3
   },
   "file_extension": ".py",
   "mimetype": "text/x-python",
   "name": "python",
   "nbconvert_exporter": "python",
   "pygments_lexer": "ipython3",
   "version": "3.6.9"
  }
 },
 "nbformat": 4,
 "nbformat_minor": 4
}
