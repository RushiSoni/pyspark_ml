{
 "cells": [
  {
   "cell_type": "code",
   "execution_count": 1,
   "metadata": {},
   "outputs": [],
   "source": [
    "import findspark\n",
    "findspark.init('/home/ubuntu/spark-2.4.5-bin-hadoop2.7')\n",
    "from pyspark.sql import SparkSession\n",
    "import pandas as pd\n",
    "from pyspark.ml.feature import VectorAssembler, StringIndexer, OneHotEncoder\n",
    "from pyspark.ml.recommendation import ALS\n",
    "from pyspark.ml.evaluation import RegressionEvaluator\n",
    "import os\n",
    "os.chdir('/home/ubuntu/data')"
   ]
  },
  {
   "cell_type": "code",
   "execution_count": 2,
   "metadata": {},
   "outputs": [],
   "source": [
    "spark = SparkSession.builder.appName('als_recommendation').getOrCreate()"
   ]
  },
  {
   "cell_type": "code",
   "execution_count": 3,
   "metadata": {},
   "outputs": [
    {
     "name": "stdout",
     "output_type": "stream",
     "text": [
      "root\n",
      " |-- movieId: integer (nullable = true)\n",
      " |-- rating: double (nullable = true)\n",
      " |-- userId: integer (nullable = true)\n",
      "\n"
     ]
    }
   ],
   "source": [
    "df = spark.read.csv('movielens_ratings.csv', inferSchema=True, header=True) \n",
    "df.printSchema()"
   ]
  },
  {
   "cell_type": "code",
   "execution_count": 4,
   "metadata": {},
   "outputs": [
    {
     "name": "stdout",
     "output_type": "stream",
     "text": [
      "Row(movieId=2, rating=3.0, userId=0) \n",
      "\n",
      "Row(movieId=3, rating=1.0, userId=0) \n",
      "\n",
      "Row(movieId=5, rating=2.0, userId=0) \n",
      "\n",
      "Row(movieId=9, rating=4.0, userId=0) \n",
      "\n",
      "Row(movieId=11, rating=1.0, userId=0) \n",
      "\n"
     ]
    }
   ],
   "source": [
    "for row in df.head(5):\n",
    "    print(row, '\\n')"
   ]
  },
  {
   "cell_type": "code",
   "execution_count": 5,
   "metadata": {},
   "outputs": [
    {
     "name": "stdout",
     "output_type": "stream",
     "text": [
      "+------+-----+\n",
      "|UserId|count|\n",
      "+------+-----+\n",
      "|    28|   50|\n",
      "|    26|   49|\n",
      "|    27|   46|\n",
      "|    12|   55|\n",
      "|    22|   56|\n",
      "|     1|   49|\n",
      "|    13|   48|\n",
      "|     6|   57|\n",
      "|    16|   45|\n",
      "|     3|   48|\n",
      "|    20|   47|\n",
      "|     5|   49|\n",
      "|    19|   49|\n",
      "|    15|   48|\n",
      "|     9|   53|\n",
      "|    17|   46|\n",
      "|     4|   55|\n",
      "|     8|   49|\n",
      "|    23|   52|\n",
      "|     7|   54|\n",
      "+------+-----+\n",
      "only showing top 20 rows\n",
      "\n"
     ]
    }
   ],
   "source": [
    "df.groupBy('UserId').count().show()"
   ]
  },
  {
   "cell_type": "code",
   "execution_count": 6,
   "metadata": {},
   "outputs": [
    {
     "name": "stdout",
     "output_type": "stream",
     "text": [
      "+-------+------------------+------------------+------------------+\n",
      "|summary|           movieId|            rating|            userId|\n",
      "+-------+------------------+------------------+------------------+\n",
      "|  count|              1501|              1501|              1501|\n",
      "|   mean| 49.40572951365756|1.7741505662891406|14.383744170552964|\n",
      "| stddev|28.937034065088994| 1.187276166124803| 8.591040424293272|\n",
      "|    min|                 0|               1.0|                 0|\n",
      "|    max|                99|               5.0|                29|\n",
      "+-------+------------------+------------------+------------------+\n",
      "\n"
     ]
    }
   ],
   "source": [
    "df.describe().show()"
   ]
  },
  {
   "cell_type": "code",
   "execution_count": 7,
   "metadata": {},
   "outputs": [
    {
     "name": "stdout",
     "output_type": "stream",
     "text": [
      "+-------+------------------+------------------+------------------+\n",
      "|summary|           movieId|            rating|            userId|\n",
      "+-------+------------------+------------------+------------------+\n",
      "|  count|              1202|              1202|              1202|\n",
      "|   mean| 48.91514143094842|1.7920133111480865|14.624792013311149|\n",
      "| stddev|29.214178581010305|1.1988071117072794| 8.590594802793422|\n",
      "|    min|                 0|               1.0|                 0|\n",
      "|    max|                99|               5.0|                29|\n",
      "+-------+------------------+------------------+------------------+\n",
      "\n"
     ]
    }
   ],
   "source": [
    "training, test = df.randomSplit([0.8, 0.2], seed=42)\n",
    "training.describe().show()"
   ]
  },
  {
   "cell_type": "code",
   "execution_count": 8,
   "metadata": {},
   "outputs": [
    {
     "name": "stdout",
     "output_type": "stream",
     "text": [
      "+-------+-----------------+------------------+------------------+\n",
      "|summary|          movieId|            rating|            userId|\n",
      "+-------+-----------------+------------------+------------------+\n",
      "|  count|              299|               299|               299|\n",
      "|   mean|51.37792642140468|1.7023411371237458|13.414715719063546|\n",
      "| stddev|27.75493754455142|1.1388625568976274| 8.538616435956683|\n",
      "|    min|                0|               1.0|                 0|\n",
      "|    max|               99|               5.0|                29|\n",
      "+-------+-----------------+------------------+------------------+\n",
      "\n"
     ]
    }
   ],
   "source": [
    "test.describe().show()"
   ]
  },
  {
   "cell_type": "code",
   "execution_count": 9,
   "metadata": {},
   "outputs": [],
   "source": [
    "als = ALS(maxIter=5, regParam=0.01, userCol='userId', itemCol='movieId', ratingCol='rating')\n",
    "model = als.fit(training)\n",
    "predictions = model.transform(test)"
   ]
  },
  {
   "cell_type": "code",
   "execution_count": 10,
   "metadata": {},
   "outputs": [
    {
     "name": "stdout",
     "output_type": "stream",
     "text": [
      "+-------+------+------+----------+\n",
      "|movieId|rating|userId|prediction|\n",
      "+-------+------+------+----------+\n",
      "|     31|   1.0|    26| -2.025536|\n",
      "|     31|   1.0|     5| 1.8553926|\n",
      "|     31|   1.0|     4| 2.9258413|\n",
      "|     31|   2.0|    25| 1.3368222|\n",
      "|     31|   1.0|    18| 1.6312206|\n",
      "|     85|   3.0|     1| 4.3166676|\n",
      "|     85|   1.0|    13|0.83296514|\n",
      "|     85|   3.0|     6| 3.4258354|\n",
      "|     85|   1.0|    25|-3.6689477|\n",
      "|     65|   1.0|    16| -2.930901|\n",
      "|     65|   1.0|     2| 2.0725696|\n",
      "|     78|   1.0|     1| 0.6628858|\n",
      "|     78|   1.0|    19|0.48282775|\n",
      "|     78|   1.0|    24| 1.5232875|\n",
      "|     78|   1.0|     2|0.24984702|\n",
      "|     34|   1.0|    28|-3.1651337|\n",
      "|     34|   1.0|    16| -3.042254|\n",
      "|     34|   1.0|    19| 0.2617333|\n",
      "|     81|   1.0|     6| 1.0004904|\n",
      "|     81|   2.0|     5|   1.89784|\n",
      "+-------+------+------+----------+\n",
      "only showing top 20 rows\n",
      "\n"
     ]
    }
   ],
   "source": [
    "predictions.show()"
   ]
  },
  {
   "cell_type": "code",
   "execution_count": 11,
   "metadata": {},
   "outputs": [
    {
     "data": {
      "text/plain": [
       "2.0779146751868827"
      ]
     },
     "execution_count": 11,
     "metadata": {},
     "output_type": "execute_result"
    }
   ],
   "source": [
    "evaluator = RegressionEvaluator(metricName='rmse', labelCol='rating', predictionCol='prediction')\n",
    "evaluator.evaluate(predictions)"
   ]
  },
  {
   "cell_type": "code",
   "execution_count": 12,
   "metadata": {},
   "outputs": [
    {
     "name": "stdout",
     "output_type": "stream",
     "text": [
      "+-------+------+\n",
      "|movieId|userId|\n",
      "+-------+------+\n",
      "|     10|    11|\n",
      "|     20|    11|\n",
      "|     22|    11|\n",
      "|     23|    11|\n",
      "|     27|    11|\n",
      "|     32|    11|\n",
      "|     39|    11|\n",
      "|     59|    11|\n",
      "|     61|    11|\n",
      "|     66|    11|\n",
      "|     67|    11|\n",
      "|     75|    11|\n",
      "|     81|    11|\n",
      "|     86|    11|\n",
      "|     88|    11|\n",
      "|     94|    11|\n",
      "|     97|    11|\n",
      "+-------+------+\n",
      "\n"
     ]
    }
   ],
   "source": [
    "single_user = test.filter(test['userId']==11).select(['movieId', 'userId'])\n",
    "single_user.show()"
   ]
  },
  {
   "cell_type": "code",
   "execution_count": 13,
   "metadata": {},
   "outputs": [
    {
     "name": "stdout",
     "output_type": "stream",
     "text": [
      "+-------+------+------------+\n",
      "|movieId|userId|  prediction|\n",
      "+-------+------+------------+\n",
      "|     32|    11|    4.885915|\n",
      "|     94|    11|   3.8838196|\n",
      "|     20|    11|    3.561094|\n",
      "|     88|    11|   3.4999099|\n",
      "|     10|    11|   3.0745592|\n",
      "|     22|    11|   2.9539418|\n",
      "|     23|    11|   2.8915904|\n",
      "|     27|    11|   2.7931235|\n",
      "|     39|    11|    1.369153|\n",
      "|     97|    11|    1.306675|\n",
      "|     86|    11|   0.3990131|\n",
      "|     66|    11|  0.22625133|\n",
      "|     75|    11|  0.19973934|\n",
      "|     59|    11|  0.14548719|\n",
      "|     61|    11|-0.101518154|\n",
      "|     67|    11|  -0.7973987|\n",
      "|     81|    11|   -0.846668|\n",
      "+-------+------+------------+\n",
      "\n"
     ]
    }
   ],
   "source": [
    "recommendation = model.transform(single_user)\n",
    "recommendation.orderBy('prediction', ascending=False).show()"
   ]
  }
 ],
 "metadata": {
  "kernelspec": {
   "display_name": "Python 3",
   "language": "python",
   "name": "python3"
  },
  "language_info": {
   "codemirror_mode": {
    "name": "ipython",
    "version": 3
   },
   "file_extension": ".py",
   "mimetype": "text/x-python",
   "name": "python",
   "nbconvert_exporter": "python",
   "pygments_lexer": "ipython3",
   "version": "3.6.9"
  }
 },
 "nbformat": 4,
 "nbformat_minor": 4
}
